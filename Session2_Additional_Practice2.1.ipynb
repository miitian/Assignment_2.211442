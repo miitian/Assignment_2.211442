{
 "cells": [
  {
   "cell_type": "markdown",
   "metadata": {
    "collapsed": true
   },
   "source": [
    "### 1) String Slices → A way to refer to sub-parts of sequences -- typically strings and lists. The slice string[start:end] is the elements beginning at start and extending up to but not including end. \n",
    "\n",
    "     For example\n",
    "     string = \"AcadGild\"\n",
    "     print(string[1:4])\n",
    "     Output = cad"
   ]
  },
  {
   "cell_type": "code",
   "execution_count": 6,
   "metadata": {},
   "outputs": [
    {
     "name": "stdout",
     "output_type": "stream",
     "text": [
      "Aca\n",
      "dGild\n",
      "AcadGild\n",
      "cadGild\n"
     ]
    }
   ],
   "source": [
    "#Initialize string \n",
    "str1 = \"AcadGild\"\n",
    "\n",
    "print(str1[:3])\n",
    "print(str1[3:])\n",
    "print(str1)\n",
    "print(str1[1:])"
   ]
  },
  {
   "cell_type": "markdown",
   "metadata": {},
   "source": [
    "### 2) Print the number of words and characters from a string\n",
    "\n",
    "       For Example\n",
    "       string = \"Welcome to AcadGild\"\n",
    "       Number of words in the string:\n",
    "       3\n",
    "       Number of characters in the string:\n",
    "       19"
   ]
  },
  {
   "cell_type": "code",
   "execution_count": 17,
   "metadata": {},
   "outputs": [
    {
     "name": "stdout",
     "output_type": "stream",
     "text": [
      "Number of words in the string:\n",
      "3\n",
      "Number of characters in the string:\n",
      "19\n"
     ]
    }
   ],
   "source": [
    "#Initialize string\n",
    "str2=\"Welcome to AcadGild\"\n",
    "\n",
    "word = str2.split(' ')\n",
    "        \n",
    "#print  total number of words\n",
    "print(\"Number of words in the string:\")\n",
    "print(len(word))\n",
    "\n",
    "#print total number of characters\n",
    "print(\"Number of characters in the string:\")\n",
    "print(len(str2))\n",
    "\n"
   ]
  },
  {
   "cell_type": "markdown",
   "metadata": {},
   "source": [
    "### 3) Print the number of vowels present in a string\n",
    "\n",
    "        For Example \n",
    "        string = \"Welcome to AcadGild\"\n",
    "        \n",
    "        Expected Output:\n",
    "        7"
   ]
  },
  {
   "cell_type": "code",
   "execution_count": 14,
   "metadata": {},
   "outputs": [
    {
     "name": "stdout",
     "output_type": "stream",
     "text": [
      "Number of vowels are:\n",
      "7\n"
     ]
    }
   ],
   "source": [
    "#Print the number of vowels present in a string\n",
    "\n",
    "#Initialize string\n",
    "str3 = \"Welcome to AcadGild\"\n",
    "\n",
    "#Initialize counter variable to count the number of vowels\n",
    "vowels = [ch for ch in str3 if ch.lower() in ['a','e','i','o','u']]\n",
    "\n",
    "\n",
    "print(\"Number of vowels are:\")\n",
    "print(len(vowels))\n"
   ]
  },
  {
   "cell_type": "markdown",
   "metadata": {
    "collapsed": true
   },
   "source": [
    "### 4) Print a string in reverse order\n",
    "\n",
    "        For Example\n",
    "        string = \"Acadgild\"\n",
    "        \n",
    "        Expected Output\n",
    "        d\n",
    "        l\n",
    "        i\n",
    "        g\n",
    "        d\n",
    "        a\n",
    "        c\n",
    "        A"
   ]
  },
  {
   "cell_type": "code",
   "execution_count": 10,
   "metadata": {},
   "outputs": [
    {
     "name": "stdout",
     "output_type": "stream",
     "text": [
      "dliGdacA\n"
     ]
    }
   ],
   "source": [
    "#initialize string\n",
    "str4=\"AcadGild\"\n",
    "\n",
    "#iterate over string and reverse the string using “reversed” function\n",
    "#def reversed(string):\n",
    "#    return string[::-1]\n",
    "\n",
    "#for i in reversed(str2):\n",
    "\n",
    "#print reverse of string\n",
    "#   print(i, end = \"\")\n",
    "\n",
    "print(str4[::-1])\n"
   ]
  }
 ],
 "metadata": {
  "kernelspec": {
   "display_name": "Python 3",
   "language": "python",
   "name": "python3"
  },
  "language_info": {
   "codemirror_mode": {
    "name": "ipython",
    "version": 3
   },
   "file_extension": ".py",
   "mimetype": "text/x-python",
   "name": "python",
   "nbconvert_exporter": "python",
   "pygments_lexer": "ipython3",
   "version": "3.6.5"
  }
 },
 "nbformat": 4,
 "nbformat_minor": 2
}
