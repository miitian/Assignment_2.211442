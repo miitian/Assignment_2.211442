{
 "cells": [
  {
   "cell_type": "markdown",
   "metadata": {
    "collapsed": true
   },
   "source": [
    "### 1) The function \"echo_name\" takes 2 parameters: a string value, \"name1\"and an integer value, \"echo_int\". It returns a string that is a concatenation of \"echo_int\" copies of \"name1\". \n",
    "\n",
    "    Your task is to convert this simple function into a lambda function.\n",
    "\n",
    "    Instructions:\n",
    "    Define the lambda function \"echo_name\" using the variables \"name1\" and \"echo_int\". Replicate what the original function definition for \"echo_name ()\" does above.\n",
    "    Call \"echo_name ()\" with the string argument 'acadgild' and the value 5, in that order. Assign the call to result\n",
    "    \n",
    "    Expected Output \n",
    "\n",
    "    acadgildacadgildacadgildacadgildacadgild"
   ]
  },
  {
   "cell_type": "code",
   "execution_count": 3,
   "metadata": {},
   "outputs": [
    {
     "name": "stdout",
     "output_type": "stream",
     "text": [
      "acadgildacadgildacadgildacadgildacadgild\n"
     ]
    }
   ],
   "source": [
    "# Define a lambda function: echo_name\n",
    "\n",
    "echo_name = (lambda str1, num : str1*num)\n",
    "\n",
    "# Call echo_name with parameters (\"acadgild\",5)\n",
    "result = echo_name (\"acadgild\",5)\n",
    "\n",
    "# Print result\n",
    "print(result)\n"
   ]
  },
  {
   "cell_type": "markdown",
   "metadata": {},
   "source": [
    "### 2)  Convert temperature in Celsius to Fahrenheit using map() and lambda functions\n",
    "\n",
    "\n",
    "        Sample input\n",
    "        Celsius = [49.2, 26.5, 47.3, 47.8]\n",
    "        \n",
    "        Expected Output\n",
    "        [120.56, 79.7, 117.14, 118.03999999999999]"
   ]
  },
  {
   "cell_type": "code",
   "execution_count": 7,
   "metadata": {},
   "outputs": [
    {
     "name": "stdout",
     "output_type": "stream",
     "text": [
      "[120.56, 79.7, 117.14, 118.03999999999999]\n"
     ]
    }
   ],
   "source": [
    "# Initialize list \n",
    "Celsius = [49.2, 26.5, 47.3, 47.8]\n",
    "\n",
    "Fahrenheit = list(map(lambda x:(x*9/5)+32, Celsius))\n",
    "\n",
    "#print Fahrenheit \n",
    "print(Fahrenheit)\n"
   ]
  },
  {
   "cell_type": "markdown",
   "metadata": {},
   "source": [
    "### 3) The function filter(function, list)  filters out all the elements of a list, for which the function function returns True. \n",
    "     The function filter(f,l) needs a function f as its first argument. f returns a Boolean value, i.e. either True or False. This function will be applied to every element of the list l. Only if f returns True will the element of the list be included in the result list\n",
    "     Q. print the numbers in the fibonacci series which are even numbers using filter and lambda functions\n",
    "     \n",
    "     Sample list = \n",
    "     fibonacci = [0,1,1,2,3,5,8,13,21,34,55]\n",
    "     \n",
    "     Expected Output\n",
    "     [0, 2, 8, 34]"
   ]
  },
  {
   "cell_type": "code",
   "execution_count": 9,
   "metadata": {},
   "outputs": [
    {
     "name": "stdout",
     "output_type": "stream",
     "text": [
      "[0, 2, 8, 34]\n"
     ]
    }
   ],
   "source": [
    "#Initialize fibonacci series list\n",
    "fibonacci = [0,1,1,2,3,5,8,13,21,34,55]\n",
    "\n",
    "def is_even(x):\n",
    "    if x%2 == 0:\n",
    "        return True\n",
    "\n",
    "result = list(filter(lambda x: is_even(x), fibonacci))\n",
    "\n",
    "print(result)"
   ]
  },
  {
   "cell_type": "markdown",
   "metadata": {},
   "source": [
    "### 4) Implement a function that takes as input three variables, and returns the largest of the three without using max() function."
   ]
  },
  {
   "cell_type": "code",
   "execution_count": 10,
   "metadata": {},
   "outputs": [],
   "source": [
    "#define a function named max_of_three with three parameters\n",
    "def max_of_three(a, b, c):\n",
    "    nums = [a,b,c]\n",
    "    nums.sort()\n",
    "    return nums[2]\n",
    "\n"
   ]
  },
  {
   "cell_type": "code",
   "execution_count": 12,
   "metadata": {},
   "outputs": [
    {
     "data": {
      "text/plain": [
       "98"
      ]
     },
     "execution_count": 12,
     "metadata": {},
     "output_type": "execute_result"
    }
   ],
   "source": [
    "max_of_three(66,1,98)"
   ]
  },
  {
   "cell_type": "markdown",
   "metadata": {
    "collapsed": true
   },
   "source": [
    "### 5) Implement a function longestWord() that takes a list of words and returns the longest one.\n",
    "\n",
    "        Sample Word List\n",
    "        word= [\"January\",\"Feburary\",\"March\",\"April\",\"May\",\"June\",\"July\"]\n",
    "        \n",
    "        Expected Output\n",
    "        ['Feburary']"
   ]
  },
  {
   "cell_type": "code",
   "execution_count": 15,
   "metadata": {},
   "outputs": [
    {
     "name": "stdout",
     "output_type": "stream",
     "text": [
      "Feburary\n"
     ]
    }
   ],
   "source": [
    " # Initialize the list\n",
    "word=  [\"January\",\"Feburary\",\"March\",\"April\",\"May\",\"June\",\"July\"]\n",
    "\n",
    "#define function named longestWord with one parameter (arg_word)\n",
    "def longestWord(arg_word):\n",
    "    word_sorted = sorted(word, key=len)\n",
    "    \n",
    "    #print(word_sorted)\n",
    "    return word_sorted[-1]\n",
    "\n",
    "#function call : longestWord and pass the list \"word\" as the parameter\n",
    "print(longestWord(word))"
   ]
  }
 ],
 "metadata": {
  "kernelspec": {
   "display_name": "Python 3",
   "language": "python",
   "name": "python3"
  },
  "language_info": {
   "codemirror_mode": {
    "name": "ipython",
    "version": 3
   },
   "file_extension": ".py",
   "mimetype": "text/x-python",
   "name": "python",
   "nbconvert_exporter": "python",
   "pygments_lexer": "ipython3",
   "version": "3.6.5"
  }
 },
 "nbformat": 4,
 "nbformat_minor": 2
}
