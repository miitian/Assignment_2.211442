{
 "cells": [
  {
   "cell_type": "markdown",
   "metadata": {
    "collapsed": true
   },
   "source": [
    "### 1) Iterating over a dictionary and printing the key \n",
    "\n",
    "     Sample_dictionary={\"house\":\"Haus\",\"cat\":\"Katze\",\"red\":\"rot\"}\n",
    "     Expected Output \n",
    "     house\n",
    "     cat\n",
    "     red"
   ]
  },
  {
   "cell_type": "code",
   "execution_count": 1,
   "metadata": {},
   "outputs": [
    {
     "name": "stdout",
     "output_type": "stream",
     "text": [
      "house\n",
      "cat\n",
      "red\n"
     ]
    }
   ],
   "source": [
    "# Initialize a dictonary\n",
    "Sample_dictionary={\"house\":\"Haus\",\"cat\":\"Katze\",\"red\":\"rot\"}\n",
    "\n",
    "for k in Sample_dictionary.keys():\n",
    "    print(k)\n"
   ]
  },
  {
   "cell_type": "markdown",
   "metadata": {},
   "source": [
    "### 2) Write a Python script to print a dictionary where the keys are numbers between 1 and 15 (both included) and the values are square of keys.\n",
    "\n",
    "        Expected Output\n",
    "        {1: 1, 2: 4, 3: 9, 4: 16, 5: 25, 6: 36, 7: 49, 8: 64, 9: 81, 10: 100, 11: 121, 12: 144, 13: 169, 14: 196, 15:225}"
   ]
  },
  {
   "cell_type": "code",
   "execution_count": 3,
   "metadata": {},
   "outputs": [
    {
     "name": "stdout",
     "output_type": "stream",
     "text": [
      "{1: 1, 2: 4, 3: 9, 4: 16, 5: 25, 6: 36, 7: 49, 8: 64, 9: 81, 10: 100, 11: 121, 12: 144, 13: 169, 14: 196, 15: 225}\n"
     ]
    }
   ],
   "source": [
    "dict1 = {i:i**2 for i in range(1,16)}\n",
    "print(dict1)"
   ]
  },
  {
   "cell_type": "markdown",
   "metadata": {
    "collapsed": true
   },
   "source": [
    "### 3) String Conversion using functions \n",
    "\n",
    "        lowercase to uppercase and uppercase to lowercase\n",
    "\n",
    "        test = \"AltERNating\"\n",
    "        \n",
    "        Expected Output \n",
    "        aLTernATING"
   ]
  },
  {
   "cell_type": "code",
   "execution_count": 5,
   "metadata": {},
   "outputs": [
    {
     "name": "stdout",
     "output_type": "stream",
     "text": [
      "aLTernATING\n"
     ]
    }
   ],
   "source": [
    "#initialize test \n",
    "test = \"AltERNating\"\n",
    "\n",
    "def to_alternating_case(str1): \n",
    "    res = [ch.upper() if ch.islower() else ch.lower() for ch in test]\n",
    "    \n",
    "    return ''.join(res)    \n",
    "\n",
    "\n",
    "print(to_alternating_case(test))"
   ]
  },
  {
   "cell_type": "markdown",
   "metadata": {
    "collapsed": true
   },
   "source": [
    "### 4) Fibonacci numbers are the numbers in which every number after the first two is the sum of the two preceding ones:\n",
    "\n",
    "        Writing Functions to write Fibonacci numbers using itertools\n",
    "        \n",
    "        Expected Output\n",
    "        [0, 1, 1, 2, 3, 5, 8, 13, 21, 34]"
   ]
  },
  {
   "cell_type": "code",
   "execution_count": 7,
   "metadata": {},
   "outputs": [
    {
     "data": {
      "text/plain": [
       "[0, 1, 1, 2, 3, 5, 8, 13, 21, 34, 55, 89, 144, 233, 377]"
      ]
     },
     "execution_count": 7,
     "metadata": {},
     "output_type": "execute_result"
    }
   ],
   "source": [
    "# define function named fib()\n",
    "def fib():\n",
    "\n",
    "    a, b = 0 , 1\n",
    "\n",
    "    while True:\n",
    "\n",
    "        yield a\n",
    "        \n",
    "        a, b = b, a + b\n",
    "\n",
    "#import itertools\n",
    "import itertools\n",
    "\n",
    "list(itertools.islice(fib(), 15))\n"
   ]
  },
  {
   "cell_type": "markdown",
   "metadata": {
    "collapsed": true
   },
   "source": [
    "### 5) Print the alphabets only from the alphanumeric string\n",
    "\n",
    "        string =  \"123@Welc34ometo12@ac#adGild\"\n",
    "        \n",
    "        Expected Output\n",
    "        \n",
    "        'WelcometoacadGild'\n"
   ]
  },
  {
   "cell_type": "code",
   "execution_count": 8,
   "metadata": {},
   "outputs": [
    {
     "data": {
      "text/plain": [
       "'WelcometoacadGild'"
      ]
     },
     "execution_count": 8,
     "metadata": {},
     "output_type": "execute_result"
    }
   ],
   "source": [
    "#Initialize string string\n",
    "\n",
    "string = \"123@Welc34ometo12@ac#adGild\"\n",
    "\n",
    "#Use generator expressions, check for alphabets from alphanumeric string\n",
    "''.join(x for x in string if x.isalpha())\n"
   ]
  }
 ],
 "metadata": {
  "kernelspec": {
   "display_name": "Python 3",
   "language": "python",
   "name": "python3"
  },
  "language_info": {
   "codemirror_mode": {
    "name": "ipython",
    "version": 3
   },
   "file_extension": ".py",
   "mimetype": "text/x-python",
   "name": "python",
   "nbconvert_exporter": "python",
   "pygments_lexer": "ipython3",
   "version": "3.6.5"
  }
 },
 "nbformat": 4,
 "nbformat_minor": 2
}
